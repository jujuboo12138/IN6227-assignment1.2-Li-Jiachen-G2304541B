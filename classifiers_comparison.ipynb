{
 "cells": [
  {
   "cell_type": "code",
   "execution_count": 12,
   "outputs": [
    {
     "name": "stdout",
     "output_type": "stream",
     "text": [
      "Decision Tree Accuracy: 0.8139106402579457\n",
      "Random Forest Accuracy: 0.8616612927990174\n",
      "Decision Tree Classifier:\n",
      "Accuracy: 0.8139106402579457\n",
      "Precision: 0.6085904416212946\n",
      "Recall: 0.6403564608529599\n",
      "F1 Score: 0.6240694789081885\n",
      "Random Tree Classifier :\n",
      "Accuracy: 0.8616612927990174\n",
      "Precision: 0.7477810650887574\n",
      "Recall: 0.6435391470401018\n",
      "F1 Score: 0.6917550461854259\n",
      "Decision Tree Classifier Training Time: 0.6342859268188477\n",
      "Random Tree Classifier Training Time: 10.909450054168701\n"
     ]
    }
   ],
   "source": [
    "import numpy as np\n",
    "import pandas as pd\n",
    "from sklearn.preprocessing import LabelEncoder\n",
    "from sklearn.model_selection import train_test_split\n",
    "from sklearn.metrics import accuracy_score\n",
    "from sklearn.tree import DecisionTreeClassifier\n",
    "from sklearn.ensemble import RandomForestClassifier\n",
    "from sklearn.metrics import accuracy_score, precision_score, recall_score, f1_score\n",
    "import time\n",
    "\n",
    "#Read the data and perform preprocessing\n",
    "data = pd.read_csv('adult.data', header=None)\n",
    "data.columns = [\n",
    "    'age', 'workclass', 'fnlwgt', 'education', 'education-num', 'marital-status',\n",
    "    'occupation', 'relationship', 'race', 'sex', 'capital-gain', 'capital-loss',\n",
    "    'hours-per-week', 'native-country', 'income'\n",
    "]\n",
    "\n",
    "# Create a dictionary to map the values of categorical features to numbers\n",
    "category_mapping = {}\n",
    "categorical_cols = data.select_dtypes(include=['object']).columns.tolist()\n",
    "\n",
    "for col in categorical_cols:\n",
    "    le = LabelEncoder()\n",
    "    data[col] = le.fit_transform(data[col])\n",
    "    category_mapping[col] = le\n",
    "\n",
    "# feature vectors and target variables\n",
    "X = data.drop('income', axis=1).values\n",
    "y = data['income'].values\n",
    "\n",
    "# Splitting the dataset into training and testing sets\n",
    "X_train, X_test, y_train, y_test = train_test_split(X, y, test_size=0.2, random_state=42)\n",
    "\n",
    "# create DecisionTreeClassifier\n",
    "decision_tree_classifier = DecisionTreeClassifier()\n",
    "decision_tree_classifier.fit(X_train, y_train)\n",
    "\n",
    "# prediction\n",
    "y_pred_tree = decision_tree_classifier.predict(X_test)\n",
    "accuracy_tree = accuracy_score(y_test, y_pred_tree)\n",
    "\n",
    "print(\"Decision Tree Accuracy:\", accuracy_tree)\n",
    "\n",
    "# create RandomForestClassifier\n",
    "random_forest_classifier = RandomForestClassifier(n_estimators=100, random_state=42)\n",
    "random_forest_classifier.fit(X_train, y_train)\n",
    "\n",
    "# prediction\n",
    "y_pred_rf = random_forest_classifier.predict(X_test)\n",
    "accuracy_rf = accuracy_score(y_test, y_pred_rf)\n",
    "\n",
    "print(\"Random Forest Accuracy:\", accuracy_rf)\n",
    "\n",
    "\n",
    "# model training\n",
    "decision_tree_classifier.fit(X_train, y_train)\n",
    "random_forest_classifier.fit(X_train, y_train)\n",
    "\n",
    "# Evaluate the performance of Decision Tree Classifier \n",
    "accuracy_tree = accuracy_score(y_test, y_pred_tree)\n",
    "precision_tree = precision_score(y_test, y_pred_tree)\n",
    "recall_tree = recall_score(y_test, y_pred_tree)\n",
    "f1_tree = f1_score(y_test, y_pred_tree)\n",
    "print(\"Decision Tree Classifier:\")\n",
    "print(\"Accuracy:\", accuracy_tree)\n",
    "print(\"Precision:\", precision_tree)\n",
    "print(\"Recall:\", recall_tree)\n",
    "print(\"F1 Score:\", f1_tree)\n",
    "\n",
    "# Evaluate the performance of Random Tree Classifier \n",
    "accuracy_rf = accuracy_score(y_test, y_pred_rf)\n",
    "precision_rf = precision_score(y_test, y_pred_rf)\n",
    "recall_rf = recall_score(y_test, y_pred_rf)\n",
    "f1_rf = f1_score(y_test, y_pred_rf)\n",
    "print(\"Random Tree Classifier :\")\n",
    "print(\"Accuracy:\", accuracy_rf)\n",
    "print(\"Precision:\", precision_rf)\n",
    "print(\"Recall:\", recall_rf)\n",
    "print(\"F1 Score:\", f1_rf)\n",
    "\n",
    "# time of training Decision Tree Classifier\n",
    "start_time = time.time()\n",
    "decision_tree_classifier.fit(X_train, y_train)\n",
    "end_time = time.time()\n",
    "training_time_tree = end_time - start_time\n",
    "print(\"Decision Tree Classifier Training Time:\",training_time_tree)\n",
    "\n",
    "# time of training Random Tree Classifier\n",
    "start_time = time.time()\n",
    "random_forest_classifier.fit(X_train, y_train)\n",
    "end_time = time.time()\n",
    "training_time_rf = end_time - start_time\n",
    "print(\"Random Tree Classifier Training Time:\",training_time_rf)"
   ],
   "metadata": {
    "collapsed": false,
    "ExecuteTime": {
     "end_time": "2023-10-09T02:04:28.295346100Z",
     "start_time": "2023-10-09T02:03:52.403635300Z"
    }
   },
   "id": "fbdf0f31a967031c"
  },
  {
   "cell_type": "code",
   "execution_count": 11,
   "outputs": [],
   "source": [],
   "metadata": {
    "collapsed": false,
    "ExecuteTime": {
     "end_time": "2023-10-09T01:59:34.260831500Z",
     "start_time": "2023-10-09T01:59:34.253145Z"
    }
   },
   "id": "8aa559cbd879c86b"
  }
 ],
 "metadata": {
  "kernelspec": {
   "display_name": "Python 3",
   "language": "python",
   "name": "python3"
  },
  "language_info": {
   "codemirror_mode": {
    "name": "ipython",
    "version": 2
   },
   "file_extension": ".py",
   "mimetype": "text/x-python",
   "name": "python",
   "nbconvert_exporter": "python",
   "pygments_lexer": "ipython2",
   "version": "2.7.6"
  }
 },
 "nbformat": 4,
 "nbformat_minor": 5
}
